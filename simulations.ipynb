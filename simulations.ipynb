{
  "nbformat": 4,
  "nbformat_minor": 0,
  "metadata": {
    "colab": {
      "provenance": [],
      "authorship_tag": "ABX9TyMLD+wYoiZyJf0vLR7DSeyT",
      "include_colab_link": true
    },
    "kernelspec": {
      "name": "python3",
      "display_name": "Python 3"
    },
    "language_info": {
      "name": "python"
    }
  },
  "cells": [
    {
      "cell_type": "markdown",
      "metadata": {
        "id": "view-in-github",
        "colab_type": "text"
      },
      "source": [
        "<a href=\"https://colab.research.google.com/github/ingridvmoras/malaria_model/blob/main/simulations.ipynb\" target=\"_parent\"><img src=\"https://colab.research.google.com/assets/colab-badge.svg\" alt=\"Open In Colab\"/></a>"
      ]
    },
    {
      "cell_type": "code",
      "execution_count": null,
      "metadata": {
        "id": "_fnPsuDAsmYY"
      },
      "outputs": [],
      "source": [
        "\n"
      ]
    },
    {
      "cell_type": "markdown",
      "source": [
        "\n",
        "# **Within-host Plasmodium falciparum clonal dynamics impact on dry-season asymptomatic persistence**\n",
        "\n",
        "## Mathematical model\n",
        "\n",
        "###Stadler et  al (2023)\n",
        "$$\\frac{dP_i}{dt} = \\left( \\frac{\\ln(r)}{2}-C-S_i \\right)  \\\\\n",
        "\\frac{dS_i}{dt} = α P_i \\\\\n",
        "\\frac{dC}{dt} = γ \\left(\\sum_{j=0}^∞ P_j\\right)P_i - δC$$\n",
        "\n",
        "\n",
        "###Modifications\n",
        "$$\\frac{dP_i}{dt} = \\left( \\frac{\\ln(r)}{2}-C-S_i \\right)  \\\\\n",
        "\\frac{dS_i}{dt} = α \\left[ \\frac{1-\\sum_{j=0}^g S_j}{K_s}\\right]P_i \\\\\n",
        "\\frac{dC}{dt} = γ \\left[ \\frac{1-\\sum_{j=0}^g P_j}{K_c}\\right]P_i - δC\n",
        "$$"
      ],
      "metadata": {
        "id": "SO3zbv5PsoZ5"
      }
    }
  ]
}